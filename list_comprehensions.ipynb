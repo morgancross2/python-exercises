{
 "cells": [
  {
   "cell_type": "code",
   "execution_count": 2,
   "id": "36f3e1ac",
   "metadata": {},
   "outputs": [],
   "source": [
    "fruits = ['mango', 'kiwi', 'strawberry', 'guava', 'pineapple', 'mandarin orange']\n",
    "numbers = [2, 3, 4, 5, 6, 7, 8, 9, 10, 11, 13, 17, 19, 23, 256, -8, -4, -2, 5, -9]"
   ]
  },
  {
   "cell_type": "code",
   "execution_count": 3,
   "id": "be5e4df0",
   "metadata": {},
   "outputs": [],
   "source": [
    "# Example for loop solution to add 1 to each number in the list\n",
    "numbers_plus_one = []\n",
    "for number in numbers:\n",
    "    numbers_plus_one.append(number + 1)\n",
    "\n",
    "# Example of using a list comprehension to create a list of the numbers plus one.\n",
    "numbers_plus_one = [number + 1 for number in numbers]\n",
    "\n",
    "# Example code that creates a list of all of the list of strings in fruits and uppercases every string\n",
    "output = []\n",
    "for fruit in fruits:\n",
    "    output.append(fruit.upper())"
   ]
  },
  {
   "cell_type": "code",
   "execution_count": 76,
   "id": "e9eb34e2",
   "metadata": {},
   "outputs": [
    {
     "name": "stdout",
     "output_type": "stream",
     "text": [
      "['mango', 'kiwi', 'strawberry', 'guava', 'pineapple', 'mandarin orange']\n",
      "['MANGO', 'KIWI', 'STRAWBERRY', 'GUAVA', 'PINEAPPLE', 'MANDARIN ORANGE']\n"
     ]
    }
   ],
   "source": [
    "# Exercise 1 - rewrite the above example code using list comprehension syntax. Make a variable named \n",
    "# uppercased_fruits to hold the output of the list comprehension. Output should be ['MANGO', 'KIWI', etc...]\n",
    "uppercased_fruits = [fruit.upper() for fruit in fruits]\n",
    "# for spot in fruits:\n",
    "#     uppercased_fruits.append(spot.upper())\n",
    "print(fruits)\n",
    "print(uppercased_fruits)"
   ]
  },
  {
   "cell_type": "code",
   "execution_count": 77,
   "id": "5d046bd3",
   "metadata": {},
   "outputs": [
    {
     "name": "stdout",
     "output_type": "stream",
     "text": [
      "['Mango', 'Kiwi', 'Strawberry', 'Guava', 'Pineapple', 'Mandarin orange']\n"
     ]
    }
   ],
   "source": [
    "# Exercise 2 - create a variable named capitalized_fruits and use list comprehension syntax to produce output like \n",
    "# ['Mango', 'Kiwi', 'Strawberry', etc...]\n",
    "capitalized_fruits = [fruit[0].upper()+fruit[1:] for fruit in fruits]\n",
    "# for spot in fruits:\n",
    "#     capitalized_fruits.append(spot[0].upper() + spot[1:])\n",
    "print(capitalized_fruits)"
   ]
  },
  {
   "cell_type": "code",
   "execution_count": 105,
   "id": "3f4a6ebb",
   "metadata": {},
   "outputs": [
    {
     "name": "stdout",
     "output_type": "stream",
     "text": [
      "3\n",
      "['guava', 'pineapple', 'mandarin orange']\n"
     ]
    }
   ],
   "source": [
    "# Exercise 3 - Use a list comprehension to make a variable named fruits_with_more_than_two_vowels. Hint: You'll need \n",
    "# a way to check if something is a vowel.\n",
    "def vowel_count(word):\n",
    "    count = 0\n",
    "    for spot in word:\n",
    "        if spot in 'aeiou':\n",
    "            count += 1\n",
    "    return count\n",
    "\n",
    "fruits_with_more_than_two_vowels = [fruit for fruit in fruits if vowel_count(fruit) > 2]\n",
    "# for fruit in fruits:\n",
    "#     count = 0\n",
    "#     for letter in fruit:\n",
    "#         if letter == 'a' or letter == 'e' or letter == 'i' or letter == 'o' or letter == 'u':\n",
    "#             count += 1\n",
    "#     if count > 2:\n",
    "#         fruits_with_more_than_two_vowels.append(fruit)\n",
    "        \n",
    "print(len(fruits_with_more_than_two_vowels))\n",
    "print(fruits_with_more_than_two_vowels)"
   ]
  },
  {
   "cell_type": "code",
   "execution_count": 104,
   "id": "761802af",
   "metadata": {},
   "outputs": [
    {
     "name": "stdout",
     "output_type": "stream",
     "text": [
      "['mango', 'kiwi', 'strawberry']\n"
     ]
    }
   ],
   "source": [
    "# Exercise 4 - make a variable named fruits_with_only_two_vowels. The result should be ['mango', 'kiwi', 'strawberry']\n",
    "def vowel_count(word):\n",
    "    count = 0\n",
    "    for spot in word:\n",
    "        if spot in 'aeiou':\n",
    "            count += 1\n",
    "    return count\n",
    "\n",
    "fruits_with_only_two_vowels = [fruit for fruit in fruits if vowel_count(fruit) == 2]\n",
    "\n",
    "# for fruit in fruits:\n",
    "#     count = 0\n",
    "#     for letter in fruit:\n",
    "#         if letter == 'a' or letter == 'e' or letter == 'i' or letter == 'o' or letter == 'u':\n",
    "#             count += 1\n",
    "#     if count == 2:\n",
    "#         fruits_with_only_two_vowels.append(fruit)\n",
    "        \n",
    "print(fruits_with_only_two_vowels)\n"
   ]
  },
  {
   "cell_type": "code",
   "execution_count": 102,
   "id": "381bd0c5",
   "metadata": {},
   "outputs": [
    {
     "name": "stdout",
     "output_type": "stream",
     "text": [
      "['strawberry', 'pineapple', 'mandarin orange']\n"
     ]
    }
   ],
   "source": [
    "# Exercise 5 - make a list that contains each fruit with more than 5 characters\n",
    "more_than_five_chars = [fruit for fruit in fruits if len(fruit) > 5]\n",
    "# for fruit in fruits:\n",
    "#     if len(fruit) > 5:\n",
    "#         more_than_five_chars.append(fruit)\n",
    "print(more_than_five_chars)"
   ]
  },
  {
   "cell_type": "code",
   "execution_count": 101,
   "id": "650e55e2",
   "metadata": {},
   "outputs": [
    {
     "name": "stdout",
     "output_type": "stream",
     "text": [
      "['mango', 'guava']\n"
     ]
    }
   ],
   "source": [
    "# Exercise 6 - make a list that contains each fruit with exactly 5 characters\n",
    "five_chars = [fruit for fruit in fruits if len(fruit) == 5]\n",
    "# for fruit in fruits:\n",
    "#     if len(fruit) == 5:\n",
    "#         five_chars.append(fruit)\n",
    "print(five_chars)"
   ]
  },
  {
   "cell_type": "code",
   "execution_count": 100,
   "id": "b1e31f0a",
   "metadata": {},
   "outputs": [
    {
     "name": "stdout",
     "output_type": "stream",
     "text": [
      "['kiwi']\n"
     ]
    }
   ],
   "source": [
    "# Exercise 7 - Make a list that contains fruits that have less than 5 characters\n",
    "less_than_five_chars = [fruit for fruit in fruits if len(fruit) < 5]\n",
    "# for fruit in fruits:\n",
    "#     if len(fruit) < 5:\n",
    "#         less_than_five_chars.append(fruit)\n",
    "print(less_than_five_chars)"
   ]
  },
  {
   "cell_type": "code",
   "execution_count": 99,
   "id": "9969b562",
   "metadata": {},
   "outputs": [
    {
     "name": "stdout",
     "output_type": "stream",
     "text": [
      "[5, 4, 10, 5, 9, 15]\n"
     ]
    }
   ],
   "source": [
    "# Exercise 8 - Make a list containing the number of characters in each fruit. Output would be [5, 4, 10, etc... ]\n",
    "fruit_len = [len(fruit) for fruit in fruits]\n",
    "# for fruit in fruits:\n",
    "#     fruit_len.append(len(fruit))\n",
    "                     \n",
    "print(fruit_len)"
   ]
  },
  {
   "cell_type": "code",
   "execution_count": 98,
   "id": "6633ac45",
   "metadata": {},
   "outputs": [
    {
     "name": "stdout",
     "output_type": "stream",
     "text": [
      "['mango', 'strawberry', 'guava', 'pineapple', 'mandarin orange']\n"
     ]
    }
   ],
   "source": [
    "# Exercise 9 - Make a variable named fruits_with_letter_a that contains a list of only the fruits that contain the \n",
    "# letter \"a\"\n",
    "fruits_with_letter_a = [fruit for fruit in fruits if 'a' in fruit]\n",
    "# for fruit in fruits:\n",
    "#     count = 0\n",
    "#     for letter in fruit:\n",
    "#         if letter == 'a':\n",
    "#             count += 1\n",
    "#     if count > 0:\n",
    "#         fruits_with_letter_a.append(fruit)\n",
    "            \n",
    "print(fruits_with_letter_a)"
   ]
  },
  {
   "cell_type": "code",
   "execution_count": 65,
   "id": "83ae9228",
   "metadata": {},
   "outputs": [
    {
     "name": "stdout",
     "output_type": "stream",
     "text": [
      "[2, 4, 6, 8, 10, 256, -8, -4, -2]\n"
     ]
    }
   ],
   "source": [
    "# Exercise 10 - Make a variable named even_numbers that holds only the even numbers \n",
    "even_numbers = [num for num in numbers if num%2 == 0]\n",
    "\n",
    "# for num in numbers:\n",
    "#     if num%2 == 0:\n",
    "#         even_numbers.append(num)\n",
    "        \n",
    "print(even_numbers)"
   ]
  },
  {
   "cell_type": "code",
   "execution_count": 66,
   "id": "a9cdc515",
   "metadata": {},
   "outputs": [
    {
     "name": "stdout",
     "output_type": "stream",
     "text": [
      "[3, 5, 7, 9, 11, 13, 17, 19, 23, 5, -9]\n"
     ]
    }
   ],
   "source": [
    "# Exercise 11 - Make a variable named odd_numbers that holds only the odd numbers\n",
    "odd_numbers = [num for num in numbers if num%2 != 0]\n",
    "# for num in numbers:\n",
    "#     if num%2 != 0:\n",
    "#         odd_numbers.append(num)\n",
    "        \n",
    "print(odd_numbers)"
   ]
  },
  {
   "cell_type": "code",
   "execution_count": 67,
   "id": "12355f97",
   "metadata": {},
   "outputs": [
    {
     "name": "stdout",
     "output_type": "stream",
     "text": [
      "[2, 3, 4, 5, 6, 7, 8, 9, 10, 11, 13, 17, 19, 23, 256, 5]\n"
     ]
    }
   ],
   "source": [
    "# Exercise 12 - Make a variable named positive_numbers that holds only the positive numbers\n",
    "positive_numbers = [num for num in numbers if num >0]\n",
    "# for num in numbers:\n",
    "#     if num > 0:\n",
    "#         positive_numbers.append(num)\n",
    "        \n",
    "print(positive_numbers)"
   ]
  },
  {
   "cell_type": "code",
   "execution_count": 68,
   "id": "f5b42224",
   "metadata": {},
   "outputs": [
    {
     "name": "stdout",
     "output_type": "stream",
     "text": [
      "[-8, -4, -2, -9]\n"
     ]
    }
   ],
   "source": [
    "# Exercise 13 - Make a variable named negative_numbers that holds only the negative numbers\n",
    "negative_numbers = [num for num in numbers if num < 0]\n",
    "# for num in numbers:\n",
    "#     if num < 0:\n",
    "#         negative_numbers.append(num)\n",
    "        \n",
    "print(negative_numbers)"
   ]
  },
  {
   "cell_type": "code",
   "execution_count": 71,
   "id": "60a66432",
   "metadata": {},
   "outputs": [
    {
     "name": "stdout",
     "output_type": "stream",
     "text": [
      "[10, 11, 13, 17, 19, 23, 256]\n"
     ]
    }
   ],
   "source": [
    "# Exercise 14 - use a list comprehension w/ a conditional in order to produce a list of numbers with 2 or more \n",
    "# numerals\n",
    "two_or_more = [num for num in numbers if num > 9 or num < -9]\n",
    "# for num in numbers:\n",
    "#     if num > 9 or num < -9:\n",
    "#         two_or_more.append(num)\n",
    "        \n",
    "print(two_or_more)"
   ]
  },
  {
   "cell_type": "code",
   "execution_count": 72,
   "id": "b5abbdb3",
   "metadata": {},
   "outputs": [
    {
     "name": "stdout",
     "output_type": "stream",
     "text": [
      "[4, 9, 16, 25, 36, 49, 64, 81, 100, 121, 169, 289, 361, 529, 65536, 64, 16, 4, 25, 81]\n"
     ]
    }
   ],
   "source": [
    "# Exercise 15 - Make a variable named numbers_squared that contains the numbers list with each element squared. \n",
    "# Output is [4, 9, 16, etc...]\n",
    "numbers_squared = [num*num for num in numbers]\n",
    "# for num in numbers:\n",
    "#     numbers_squared.append(num*num)\n",
    "\n",
    "print(numbers_squared)"
   ]
  },
  {
   "cell_type": "code",
   "execution_count": 74,
   "id": "451c03c5",
   "metadata": {},
   "outputs": [
    {
     "name": "stdout",
     "output_type": "stream",
     "text": [
      "[-9]\n"
     ]
    }
   ],
   "source": [
    "# Exercise 16 - Make a variable named odd_negative_numbers that contains only the numbers that are both odd and \n",
    "# negative.\n",
    "odd_negative_numbers = [num for num in numbers if num%2 != 0 and num < 0]\n",
    "# for num in numbers:\n",
    "#     if num%2 != 0 and num < 0:\n",
    "#         odd_negative_numbers.append(num)\n",
    "\n",
    "print(odd_negative_numbers)"
   ]
  },
  {
   "cell_type": "code",
   "execution_count": 75,
   "id": "2b46b7ec",
   "metadata": {},
   "outputs": [
    {
     "name": "stdout",
     "output_type": "stream",
     "text": [
      "[7, 8, 9, 10, 11, 12, 13, 14, 15, 16, 18, 22, 24, 28, 261, -3, 1, 3, 10, -4]\n"
     ]
    }
   ],
   "source": [
    "# Exercise 17 - Make a variable named numbers_plus_5. In it, return a list containing each number plus five. \n",
    "numbers_plus_5 = [num+5 for num in numbers]\n",
    "# for num in numbers:\n",
    "#     numbers_plus_5.append(num+5)\n",
    "    \n",
    "print(numbers_plus_5)\n"
   ]
  },
  {
   "cell_type": "code",
   "execution_count": 109,
   "id": "9e387fbd",
   "metadata": {},
   "outputs": [
    {
     "ename": "NameError",
     "evalue": "name 'true' is not defined",
     "output_type": "error",
     "traceback": [
      "\u001b[0;31m---------------------------------------------------------------------------\u001b[0m",
      "\u001b[0;31mNameError\u001b[0m                                 Traceback (most recent call last)",
      "Input \u001b[0;32mIn [109]\u001b[0m, in \u001b[0;36m<cell line: 9>\u001b[0;34m()\u001b[0m\n\u001b[1;32m      6\u001b[0m             \u001b[38;5;28;01mreturn\u001b[39;00m false\n\u001b[1;32m      7\u001b[0m     \u001b[38;5;28;01mreturn\u001b[39;00m true;\n\u001b[0;32m----> 9\u001b[0m prime_numbers \u001b[38;5;241m=\u001b[39m [num \u001b[38;5;28;01mfor\u001b[39;00m num \u001b[38;5;129;01min\u001b[39;00m numbers \u001b[38;5;28;01mif\u001b[39;00m is_prime(num)]\n\u001b[1;32m     10\u001b[0m \u001b[38;5;66;03m# for num in numbers:\u001b[39;00m\n\u001b[1;32m     11\u001b[0m \u001b[38;5;66;03m#     count = 0\u001b[39;00m\n\u001b[1;32m     12\u001b[0m \u001b[38;5;66;03m#     for spot in range(2,abs(num)):\u001b[39;00m\n\u001b[0;32m   (...)\u001b[0m\n\u001b[1;32m     15\u001b[0m \u001b[38;5;66;03m#     if count == 0:\u001b[39;00m\n\u001b[1;32m     16\u001b[0m \u001b[38;5;66;03m#         prime_numbers.append(num)\u001b[39;00m\n\u001b[1;32m     18\u001b[0m \u001b[38;5;28mprint\u001b[39m(prime_numbers)\n",
      "Input \u001b[0;32mIn [109]\u001b[0m, in \u001b[0;36m<listcomp>\u001b[0;34m(.0)\u001b[0m\n\u001b[1;32m      6\u001b[0m             \u001b[38;5;28;01mreturn\u001b[39;00m false\n\u001b[1;32m      7\u001b[0m     \u001b[38;5;28;01mreturn\u001b[39;00m true;\n\u001b[0;32m----> 9\u001b[0m prime_numbers \u001b[38;5;241m=\u001b[39m [num \u001b[38;5;28;01mfor\u001b[39;00m num \u001b[38;5;129;01min\u001b[39;00m numbers \u001b[38;5;28;01mif\u001b[39;00m \u001b[43mis_prime\u001b[49m\u001b[43m(\u001b[49m\u001b[43mnum\u001b[49m\u001b[43m)\u001b[49m]\n\u001b[1;32m     10\u001b[0m \u001b[38;5;66;03m# for num in numbers:\u001b[39;00m\n\u001b[1;32m     11\u001b[0m \u001b[38;5;66;03m#     count = 0\u001b[39;00m\n\u001b[1;32m     12\u001b[0m \u001b[38;5;66;03m#     for spot in range(2,abs(num)):\u001b[39;00m\n\u001b[0;32m   (...)\u001b[0m\n\u001b[1;32m     15\u001b[0m \u001b[38;5;66;03m#     if count == 0:\u001b[39;00m\n\u001b[1;32m     16\u001b[0m \u001b[38;5;66;03m#         prime_numbers.append(num)\u001b[39;00m\n\u001b[1;32m     18\u001b[0m \u001b[38;5;28mprint\u001b[39m(prime_numbers)\n",
      "Input \u001b[0;32mIn [109]\u001b[0m, in \u001b[0;36mis_prime\u001b[0;34m(num)\u001b[0m\n\u001b[1;32m      5\u001b[0m     \u001b[38;5;28;01mif\u001b[39;00m (\u001b[38;5;28mabs\u001b[39m(num)\u001b[38;5;241m%\u001b[39mspot) \u001b[38;5;241m!=\u001b[39m \u001b[38;5;241m0\u001b[39m:\n\u001b[1;32m      6\u001b[0m         \u001b[38;5;28;01mreturn\u001b[39;00m false\n\u001b[0;32m----> 7\u001b[0m \u001b[38;5;28;01mreturn\u001b[39;00m \u001b[43mtrue\u001b[49m\n",
      "\u001b[0;31mNameError\u001b[0m: name 'true' is not defined"
     ]
    }
   ],
   "source": [
    "# BONUS Make a variable named \"primes\" that is a list containing the prime numbers in the numbers list. *Hint* you \n",
    "# may want to make or find a helper function that determines if a given number is prime or not.\n",
    "def is_prime(num):\n",
    "    for spot in range(2,abs(num)):\n",
    "        if (abs(num)%spot) != 0:\n",
    "            return false\n",
    "    return true;\n",
    "\n",
    "prime_numbers = [num for num in numbers if is_prime(num)]\n",
    "# for num in numbers:\n",
    "#     count = 0\n",
    "#     for spot in range(2,abs(num)):\n",
    "#         if (abs(num)%spot) == 0:\n",
    "#             count += 1\n",
    "#     if count == 0:\n",
    "#         prime_numbers.append(num)\n",
    "        \n",
    "print(prime_numbers)"
   ]
  },
  {
   "cell_type": "code",
   "execution_count": null,
   "id": "284afe3c",
   "metadata": {},
   "outputs": [],
   "source": []
  }
 ],
 "metadata": {
  "kernelspec": {
   "display_name": "Python 3 (ipykernel)",
   "language": "python",
   "name": "python3"
  },
  "language_info": {
   "codemirror_mode": {
    "name": "ipython",
    "version": 3
   },
   "file_extension": ".py",
   "mimetype": "text/x-python",
   "name": "python",
   "nbconvert_exporter": "python",
   "pygments_lexer": "ipython3",
   "version": "3.9.12"
  }
 },
 "nbformat": 4,
 "nbformat_minor": 5
}
