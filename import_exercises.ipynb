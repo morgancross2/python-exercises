{
 "cells": [
  {
   "cell_type": "markdown",
   "id": "41cefaef-ca55-43a8-821a-b25062dcbe84",
   "metadata": {},
   "source": [
    "#### 1. Import and test 3 of the functions from your functions exercise file. Import each function in a different way:\n",
    "\n",
    "#### 1.a Run an interactive python session and import the module. Call the is_vowel function using the . syntax."
   ]
  },
  {
   "cell_type": "code",
   "execution_count": 5,
   "id": "af15bf49-215a-4890-b932-7f51404195bc",
   "metadata": {},
   "outputs": [],
   "source": [
    "#Done!"
   ]
  },
  {
   "cell_type": "markdown",
   "id": "3a59673c-cf82-4902-a3b1-e066547148b9",
   "metadata": {},
   "source": [
    "#### 1.b Create a file named import_exericses.py. Within this file, use from to import the calculate_tip function directly. Call this function with values you choose and print the result."
   ]
  },
  {
   "cell_type": "code",
   "execution_count": 6,
   "id": "5a6903f7-3f1a-4714-85c9-be7d13a84da3",
   "metadata": {},
   "outputs": [],
   "source": [
    "#Done!"
   ]
  },
  {
   "cell_type": "markdown",
   "id": "1527b26b-5787-4345-814c-ba4b2acccdce",
   "metadata": {},
   "source": [
    "#### 1.c Create a jupyter notebook named import_exercises.ipynb. Use from to import the get_letter_grade function and give it an alias. Test this function in your notebook."
   ]
  },
  {
   "cell_type": "code",
   "execution_count": 7,
   "id": "9ec289d8-1695-4948-9a5d-7ef240e58cbe",
   "metadata": {},
   "outputs": [
    {
     "data": {
      "text/plain": [
       "'B'"
      ]
     },
     "execution_count": 7,
     "metadata": {},
     "output_type": "execute_result"
    }
   ],
   "source": [
    "from function_exercises import get_letter_grade as glg\n",
    "\n",
    "glg(87)\n"
   ]
  },
  {
   "cell_type": "markdown",
   "id": "90d4f60a-1cc5-4a3f-af8e-ad0a5124e177",
   "metadata": {
    "tags": []
   },
   "source": [
    "#### 2. Read about and use the itertools module from the python standard library to help you solve the following problems:\n",
    "\n",
    "#### How many different ways can you combine the letters from \"abc\" with the numbers 1, 2, and 3?\n",
    "#### How many different combinations are there of 2 letters from \"abcd\"?\n",
    "#### How many different permutations are there of 2 letters from \"abcd\"?"
   ]
  },
  {
   "cell_type": "code",
   "execution_count": 8,
   "id": "d47b9c36-64fe-43f5-827e-fbaef5e25598",
   "metadata": {},
   "outputs": [],
   "source": [
    "from itertools import combinations as cb, permutations as pm, product as pd"
   ]
  },
  {
   "cell_type": "code",
   "execution_count": 9,
   "id": "9e309074-ea05-4327-aae4-3048e0263c45",
   "metadata": {},
   "outputs": [
    {
     "name": "stdout",
     "output_type": "stream",
     "text": [
      "abc123 can be mixed 9 different ways\n"
     ]
    }
   ],
   "source": [
    "first = list(pd('abc', [1,2,3]))\n",
    "print(f'abc123 can be mixed {len(first)} different ways')"
   ]
  },
  {
   "cell_type": "code",
   "execution_count": 10,
   "id": "b7680ea4-b251-4dcc-8dae-fe10db1811c4",
   "metadata": {},
   "outputs": [
    {
     "name": "stdout",
     "output_type": "stream",
     "text": [
      "abcd can be combined 6 different ways\n"
     ]
    }
   ],
   "source": [
    "second = list(cb('abcd', 2))\n",
    "print(f'abcd can be combined {len(second)} different ways')"
   ]
  },
  {
   "cell_type": "code",
   "execution_count": 11,
   "id": "0c7e9fdf-82de-4730-8219-5581cdb212e8",
   "metadata": {},
   "outputs": [
    {
     "name": "stdout",
     "output_type": "stream",
     "text": [
      "abcd can be permutated 12 different ways\n"
     ]
    }
   ],
   "source": [
    "third = list(pm('abcd', 2))\n",
    "print(f'abcd can be permutated {len(third)} different ways')"
   ]
  },
  {
   "cell_type": "markdown",
   "id": "f8d03545-de7c-4ce9-a199-fd5e11a8062b",
   "metadata": {
    "tags": []
   },
   "source": [
    "#### 3. Save this file as profiles.json inside of your exercises directory (right click -> save file as...).\n",
    "#### Use the load function from the json module to open this file."
   ]
  },
  {
   "cell_type": "code",
   "execution_count": 12,
   "id": "ba0e4783-b5ff-43cf-af9d-f1f70a125d15",
   "metadata": {
    "scrolled": true,
    "tags": []
   },
   "outputs": [],
   "source": [
    "import json\n",
    "data = json.load(open('profiles.json'))"
   ]
  },
  {
   "cell_type": "markdown",
   "id": "a97ae957-65d3-4315-b21c-529d3979169c",
   "metadata": {},
   "source": [
    "#### Total number of users"
   ]
  },
  {
   "cell_type": "code",
   "execution_count": 13,
   "id": "9dc69405-49c1-4d3e-a842-247500836afc",
   "metadata": {},
   "outputs": [
    {
     "name": "stdout",
     "output_type": "stream",
     "text": [
      "19\n"
     ]
    }
   ],
   "source": [
    "print(len(data))"
   ]
  },
  {
   "cell_type": "markdown",
   "id": "0fba88a4-be9c-46d9-bcff-93f2665052b9",
   "metadata": {},
   "source": [
    "#### Number of active users"
   ]
  },
  {
   "cell_type": "code",
   "execution_count": 14,
   "id": "db22f7ac-5e17-4d16-b1a5-be57eb30a8c2",
   "metadata": {},
   "outputs": [
    {
     "name": "stdout",
     "output_type": "stream",
     "text": [
      "9\n"
     ]
    }
   ],
   "source": [
    "count = 0\n",
    "for file in data:\n",
    "    if file[\"isActive\"] == True:\n",
    "        count += 1\n",
    "print(count)"
   ]
  },
  {
   "cell_type": "markdown",
   "id": "09f74ecd-3cfe-481b-839c-f5c730f7da16",
   "metadata": {},
   "source": [
    "#### Number of inactive users"
   ]
  },
  {
   "cell_type": "code",
   "execution_count": 15,
   "id": "c56b52b9-1fe1-43a8-a5b3-b87e37ec3e87",
   "metadata": {},
   "outputs": [
    {
     "name": "stdout",
     "output_type": "stream",
     "text": [
      "10\n"
     ]
    }
   ],
   "source": [
    "count = 0\n",
    "for file in data:\n",
    "    if file[\"isActive\"] == False:\n",
    "        count += 1\n",
    "print(count)"
   ]
  },
  {
   "cell_type": "markdown",
   "id": "8922ff69-d303-4c54-ba20-162f6cda9dee",
   "metadata": {},
   "source": [
    "#### Grand total of balances for all users"
   ]
  },
  {
   "cell_type": "code",
   "execution_count": 16,
   "id": "58d13468-5912-4ac2-ad58-4e6bb01fde1f",
   "metadata": {},
   "outputs": [
    {
     "name": "stdout",
     "output_type": "stream",
     "text": [
      "52667.02\n"
     ]
    }
   ],
   "source": [
    "def handle_extras (num_str):\n",
    "    nums = '1234567890.'\n",
    "    new = ''\n",
    "    if type(num_str) == str:\n",
    "        for spot in num_str:\n",
    "            if spot in nums:\n",
    "                new += spot\n",
    "    return float(new)\n",
    "\n",
    "gt = 0\n",
    "for file in data:\n",
    "    gt += handle_extras(file[\"balance\"])\n",
    "print(gt)"
   ]
  },
  {
   "cell_type": "markdown",
   "id": "dcb36bc8-e9a4-4ebc-848b-4096cbe0f435",
   "metadata": {},
   "source": [
    "#### Average balance per user"
   ]
  },
  {
   "cell_type": "code",
   "execution_count": 17,
   "id": "4439681f-41c3-4de9-9e34-532ae61bbd33",
   "metadata": {},
   "outputs": [
    {
     "name": "stdout",
     "output_type": "stream",
     "text": [
      "2771.95\n"
     ]
    }
   ],
   "source": [
    "# use gt from above\n",
    "print(round(gt/len(data), 2))"
   ]
  },
  {
   "cell_type": "markdown",
   "id": "637f4db3-1288-4226-8cf1-7b6fd443dd95",
   "metadata": {},
   "source": [
    "#### User with the lowest balance"
   ]
  },
  {
   "cell_type": "code",
   "execution_count": 18,
   "id": "c55d9d29-1ab8-4843-962e-3ae4e9d68077",
   "metadata": {},
   "outputs": [
    {
     "name": "stdout",
     "output_type": "stream",
     "text": [
      "Avery Flynn\n"
     ]
    }
   ],
   "source": [
    "user = data[0][\"name\"]\n",
    "lowest = handle_extras(data[0][\"balance\"])\n",
    "for file in data:\n",
    "    if handle_extras(file[\"balance\"]) < lowest:\n",
    "        lowest = handle_extras(file[\"balance\"])\n",
    "        user = file[\"name\"]\n",
    "\n",
    "print(user)"
   ]
  },
  {
   "cell_type": "markdown",
   "id": "19401fbd-0093-4125-8496-269280fa85f1",
   "metadata": {},
   "source": [
    "#### User with the highest balance"
   ]
  },
  {
   "cell_type": "code",
   "execution_count": 19,
   "id": "9eca058a-211e-400a-a5c1-040954a6df43",
   "metadata": {},
   "outputs": [
    {
     "name": "stdout",
     "output_type": "stream",
     "text": [
      "Fay Hammond\n"
     ]
    }
   ],
   "source": [
    "user = data[0][\"name\"]\n",
    "highest = handle_extras(data[0][\"balance\"])\n",
    "for file in data:\n",
    "    if handle_extras(file[\"balance\"]) > highest:\n",
    "        highest = handle_extras(file[\"balance\"])\n",
    "        user = file[\"name\"]\n",
    "\n",
    "print(user)"
   ]
  },
  {
   "cell_type": "markdown",
   "id": "e38c00db-a993-4dd8-a3ad-2a72782e5039",
   "metadata": {},
   "source": [
    "#### Most common favorite fruit"
   ]
  },
  {
   "cell_type": "code",
   "execution_count": 20,
   "id": "ba7535cd-5776-4250-a0f7-3d3ef6f0d22f",
   "metadata": {},
   "outputs": [
    {
     "name": "stdout",
     "output_type": "stream",
     "text": [
      "strawberry\n"
     ]
    }
   ],
   "source": [
    "favs = {}\n",
    "for file in data:\n",
    "    if file[\"favoriteFruit\"] not in favs:\n",
    "        favs[file[\"favoriteFruit\"]] = 1\n",
    "    else:\n",
    "        favs[file[\"favoriteFruit\"]] += 1\n",
    "#print(favs)\n",
    "\n",
    "fruits = list(favs.keys())\n",
    "counts = list(favs.values())\n",
    "m = max(counts)\n",
    "spot = counts.index(m)\n",
    "\n",
    "print(fruits[spot])\n",
    "\n",
    "#print(max(counts))"
   ]
  },
  {
   "cell_type": "markdown",
   "id": "db4bc4f9-8069-49b1-b505-cb6fe6198ee4",
   "metadata": {},
   "source": [
    "#### Least most common favorite fruit"
   ]
  },
  {
   "cell_type": "code",
   "execution_count": 21,
   "id": "51736f88-3ec0-4eba-85fe-1abc6978ae37",
   "metadata": {},
   "outputs": [
    {
     "name": "stdout",
     "output_type": "stream",
     "text": [
      "apple\n"
     ]
    }
   ],
   "source": [
    "favs = {}\n",
    "for file in data:\n",
    "    if file[\"favoriteFruit\"] not in favs:\n",
    "        favs[file[\"favoriteFruit\"]] = 1\n",
    "    else:\n",
    "        favs[file[\"favoriteFruit\"]] += 1\n",
    "        \n",
    "fruits = list(favs.keys())\n",
    "counts = list(favs.values())\n",
    "m = min(counts)\n",
    "spot = counts.index(m)\n",
    "\n",
    "print(fruits[spot])"
   ]
  },
  {
   "cell_type": "markdown",
   "id": "06ace4fb-ab52-4f67-adef-298ed511004f",
   "metadata": {},
   "source": [
    "#### Total number of unread messages for all users"
   ]
  },
  {
   "cell_type": "code",
   "execution_count": 22,
   "id": "4dbfdae6-4ce7-44d7-afc3-e3bb2f0b1613",
   "metadata": {},
   "outputs": [
    {
     "name": "stdout",
     "output_type": "stream",
     "text": [
      "210\n"
     ]
    }
   ],
   "source": [
    "sum = 0\n",
    "nums = '1234567890'\n",
    "for file in data:\n",
    "    unread = ''\n",
    "    for spot in file[\"greeting\"]:\n",
    "        if spot in nums:\n",
    "            unread += spot\n",
    "    sum += int(unread)\n",
    "print(sum)"
   ]
  },
  {
   "cell_type": "code",
   "execution_count": null,
   "id": "fa57a53c-8a79-4c21-a723-4dcad1eefdfe",
   "metadata": {},
   "outputs": [],
   "source": []
  }
 ],
 "metadata": {
  "kernelspec": {
   "display_name": "Python 3 (ipykernel)",
   "language": "python",
   "name": "python3"
  },
  "language_info": {
   "codemirror_mode": {
    "name": "ipython",
    "version": 3
   },
   "file_extension": ".py",
   "mimetype": "text/x-python",
   "name": "python",
   "nbconvert_exporter": "python",
   "pygments_lexer": "ipython3",
   "version": "3.9.12"
  }
 },
 "nbformat": 4,
 "nbformat_minor": 5
}
