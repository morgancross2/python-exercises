{
 "cells": [
  {
   "cell_type": "markdown",
   "id": "41cefaef-ca55-43a8-821a-b25062dcbe84",
   "metadata": {},
   "source": [
    "#### 1. Import and test 3 of the functions from your functions exercise file. Import each function in a different way:\n",
    "\n",
    "#### 1.a Run an interactive python session and import the module. Call the is_vowel function using the . syntax."
   ]
  },
  {
   "cell_type": "code",
   "execution_count": 84,
   "id": "af15bf49-215a-4890-b932-7f51404195bc",
   "metadata": {},
   "outputs": [],
   "source": [
    "#Done!"
   ]
  },
  {
   "cell_type": "markdown",
   "id": "3a59673c-cf82-4902-a3b1-e066547148b9",
   "metadata": {},
   "source": [
    "#### 1.b Create a file named import_exericses.py. Within this file, use from to import the calculate_tip function directly. Call this function with values you choose and print the result."
   ]
  },
  {
   "cell_type": "code",
   "execution_count": 85,
   "id": "5a6903f7-3f1a-4714-85c9-be7d13a84da3",
   "metadata": {},
   "outputs": [],
   "source": [
    "#Done!"
   ]
  },
  {
   "cell_type": "markdown",
   "id": "1527b26b-5787-4345-814c-ba4b2acccdce",
   "metadata": {},
   "source": [
    "#### 1.c Create a jupyter notebook named import_exercises.ipynb. Use from to import the get_letter_grade function and give it an alias. Test this function in your notebook."
   ]
  },
  {
   "cell_type": "code",
   "execution_count": 86,
   "id": "9ec289d8-1695-4948-9a5d-7ef240e58cbe",
   "metadata": {},
   "outputs": [
    {
     "data": {
      "text/plain": [
       "'B'"
      ]
     },
     "execution_count": 86,
     "metadata": {},
     "output_type": "execute_result"
    }
   ],
   "source": [
    "from function_exercises import get_letter_grade as glg\n",
    "\n",
    "glg(87)\n"
   ]
  },
  {
   "cell_type": "markdown",
   "id": "90d4f60a-1cc5-4a3f-af8e-ad0a5124e177",
   "metadata": {
    "tags": []
   },
   "source": [
    "#### 2. Read about and use the itertools module from the python standard library to help you solve the following problems:\n",
    "\n",
    "#### How many different ways can you combine the letters from \"abc\" with the numbers 1, 2, and 3?\n",
    "#### How many different combinations are there of 2 letters from \"abcd\"?\n",
    "#### How many different permutations are there of 2 letters from \"abcd\"?"
   ]
  },
  {
   "cell_type": "code",
   "execution_count": 87,
   "id": "d47b9c36-64fe-43f5-827e-fbaef5e25598",
   "metadata": {},
   "outputs": [],
   "source": [
    "from itertools import combinations as cb, permutations as pm "
   ]
  },
  {
   "cell_type": "code",
   "execution_count": 88,
   "id": "9e309074-ea05-4327-aae4-3048e0263c45",
   "metadata": {},
   "outputs": [
    {
     "name": "stdout",
     "output_type": "stream",
     "text": [
      "abc123 can be mixed 720 different ways\n"
     ]
    }
   ],
   "source": [
    "first = list(pm('abc123', 6))\n",
    "print(f'abc123 can be mixed {len(first)} different ways')"
   ]
  },
  {
   "cell_type": "code",
   "execution_count": 89,
   "id": "b7680ea4-b251-4dcc-8dae-fe10db1811c4",
   "metadata": {},
   "outputs": [
    {
     "name": "stdout",
     "output_type": "stream",
     "text": [
      "abcd can be combined 6 different ways\n"
     ]
    }
   ],
   "source": [
    "second = list(cb('abcd', 2))\n",
    "print(f'abcd can be combined {len(second)} different ways')"
   ]
  },
  {
   "cell_type": "code",
   "execution_count": 90,
   "id": "0c7e9fdf-82de-4730-8219-5581cdb212e8",
   "metadata": {},
   "outputs": [
    {
     "name": "stdout",
     "output_type": "stream",
     "text": [
      "abcd can be permutated 12 different ways\n"
     ]
    }
   ],
   "source": [
    "third = list(pm('abcd', 2))\n",
    "print(f'abcd can be permutated {len(third)} different ways')"
   ]
  },
  {
   "cell_type": "markdown",
   "id": "f8d03545-de7c-4ce9-a199-fd5e11a8062b",
   "metadata": {
    "tags": []
   },
   "source": [
    "#### 3. Save this file as profiles.json inside of your exercises directory (right click -> save file as...).\n",
    "#### Use the load function from the json module to open this file."
   ]
  },
  {
   "cell_type": "code",
   "execution_count": 91,
   "id": "ba0e4783-b5ff-43cf-af9d-f1f70a125d15",
   "metadata": {
    "scrolled": true,
    "tags": []
   },
   "outputs": [],
   "source": [
    "import json\n",
    "data = json.load(open('profiles.json'))"
   ]
  },
  {
   "cell_type": "markdown",
   "id": "a97ae957-65d3-4315-b21c-529d3979169c",
   "metadata": {},
   "source": [
    "#### Total number of users"
   ]
  },
  {
   "cell_type": "code",
   "execution_count": 92,
   "id": "9dc69405-49c1-4d3e-a842-247500836afc",
   "metadata": {},
   "outputs": [
    {
     "name": "stdout",
     "output_type": "stream",
     "text": [
      "19\n"
     ]
    }
   ],
   "source": [
    "print(len(data))"
   ]
  },
  {
   "cell_type": "markdown",
   "id": "0fba88a4-be9c-46d9-bcff-93f2665052b9",
   "metadata": {},
   "source": [
    "#### Number of active users"
   ]
  },
  {
   "cell_type": "code",
   "execution_count": 93,
   "id": "db22f7ac-5e17-4d16-b1a5-be57eb30a8c2",
   "metadata": {},
   "outputs": [
    {
     "name": "stdout",
     "output_type": "stream",
     "text": [
      "9\n"
     ]
    }
   ],
   "source": [
    "count = 0\n",
    "for file in data:\n",
    "    if file[\"isActive\"] == True:\n",
    "        count += 1\n",
    "print(count)"
   ]
  },
  {
   "cell_type": "markdown",
   "id": "09f74ecd-3cfe-481b-839c-f5c730f7da16",
   "metadata": {},
   "source": [
    "#### Number of inactive users"
   ]
  },
  {
   "cell_type": "code",
   "execution_count": 94,
   "id": "c56b52b9-1fe1-43a8-a5b3-b87e37ec3e87",
   "metadata": {},
   "outputs": [
    {
     "name": "stdout",
     "output_type": "stream",
     "text": [
      "10\n"
     ]
    }
   ],
   "source": [
    "count = 0\n",
    "for file in data:\n",
    "    if file[\"isActive\"] == False:\n",
    "        count += 1\n",
    "print(count)"
   ]
  },
  {
   "cell_type": "markdown",
   "id": "8922ff69-d303-4c54-ba20-162f6cda9dee",
   "metadata": {},
   "source": [
    "#### Grand total of balances for all users"
   ]
  },
  {
   "cell_type": "code",
   "execution_count": 95,
   "id": "58d13468-5912-4ac2-ad58-4e6bb01fde1f",
   "metadata": {},
   "outputs": [
    {
     "name": "stdout",
     "output_type": "stream",
     "text": [
      "5266702.0\n"
     ]
    }
   ],
   "source": [
    "def handle_extras (num_str):\n",
    "    nums = '1234567890'\n",
    "    new = ''\n",
    "    if type(num_str) == str:\n",
    "        for spot in num_str:\n",
    "            if spot in nums:\n",
    "                new += spot\n",
    "    return float(new)\n",
    "\n",
    "sum = 0\n",
    "for file in data:\n",
    "    sum += handle_extras(file[\"balance\"])\n",
    "print(sum)"
   ]
  },
  {
   "cell_type": "markdown",
   "id": "dcb36bc8-e9a4-4ebc-848b-4096cbe0f435",
   "metadata": {},
   "source": [
    "#### Average balance per user"
   ]
  },
  {
   "cell_type": "code",
   "execution_count": 96,
   "id": "4439681f-41c3-4de9-9e34-532ae61bbd33",
   "metadata": {},
   "outputs": [
    {
     "name": "stdout",
     "output_type": "stream",
     "text": [
      "277194.84\n"
     ]
    }
   ],
   "source": [
    "sum = 0\n",
    "for file in data:\n",
    "    sum += handle_extras(file[\"balance\"])\n",
    "print(round(sum/len(data), 2))"
   ]
  },
  {
   "cell_type": "markdown",
   "id": "637f4db3-1288-4226-8cf1-7b6fd443dd95",
   "metadata": {},
   "source": [
    "#### User with the lowest balance"
   ]
  },
  {
   "cell_type": "code",
   "execution_count": 97,
   "id": "c55d9d29-1ab8-4843-962e-3ae4e9d68077",
   "metadata": {},
   "outputs": [
    {
     "name": "stdout",
     "output_type": "stream",
     "text": [
      "Avery Flynn\n"
     ]
    }
   ],
   "source": [
    "user = data[0][\"name\"]\n",
    "lowest = handle_extras(data[0][\"balance\"])\n",
    "for file in data:\n",
    "    if handle_extras(file[\"balance\"]) < lowest:\n",
    "        lowest = handle_extras(file[\"balance\"])\n",
    "        user = file[\"name\"]\n",
    "\n",
    "print(user)"
   ]
  },
  {
   "cell_type": "markdown",
   "id": "19401fbd-0093-4125-8496-269280fa85f1",
   "metadata": {},
   "source": [
    "#### User with the highest balance"
   ]
  },
  {
   "cell_type": "code",
   "execution_count": 98,
   "id": "9eca058a-211e-400a-a5c1-040954a6df43",
   "metadata": {},
   "outputs": [
    {
     "name": "stdout",
     "output_type": "stream",
     "text": [
      "Fay Hammond\n"
     ]
    }
   ],
   "source": [
    "user = data[0][\"name\"]\n",
    "highest = handle_extras(data[0][\"balance\"])\n",
    "for file in data:\n",
    "    if handle_extras(file[\"balance\"]) > highest:\n",
    "        highest = handle_extras(file[\"balance\"])\n",
    "        user = file[\"name\"]\n",
    "\n",
    "print(user)"
   ]
  },
  {
   "cell_type": "markdown",
   "id": "e38c00db-a993-4dd8-a3ad-2a72782e5039",
   "metadata": {},
   "source": [
    "#### Most common favorite fruit"
   ]
  },
  {
   "cell_type": "code",
   "execution_count": 119,
   "id": "ba7535cd-5776-4250-a0f7-3d3ef6f0d22f",
   "metadata": {},
   "outputs": [
    {
     "name": "stdout",
     "output_type": "stream",
     "text": [
      "{'strawberry': 9, 'apple': 4, 'banana': 6}\n",
      "<class 'int'>\n"
     ]
    },
    {
     "ename": "TypeError",
     "evalue": "'str' object is not callable",
     "output_type": "error",
     "traceback": [
      "\u001b[0;31m---------------------------------------------------------------------------\u001b[0m",
      "\u001b[0;31mTypeError\u001b[0m                                 Traceback (most recent call last)",
      "Input \u001b[0;32mIn [119]\u001b[0m, in \u001b[0;36m<cell line: 14>\u001b[0;34m()\u001b[0m\n\u001b[1;32m     11\u001b[0m \u001b[38;5;66;03m#m = counts.index(max(counts))\u001b[39;00m\n\u001b[1;32m     13\u001b[0m \u001b[38;5;28mprint\u001b[39m(\u001b[38;5;28mtype\u001b[39m(counts[\u001b[38;5;241m2\u001b[39m]))\n\u001b[0;32m---> 14\u001b[0m \u001b[38;5;28mprint\u001b[39m(\u001b[38;5;28;43mmax\u001b[39;49m\u001b[43m(\u001b[49m\u001b[43mcounts\u001b[49m\u001b[43m)\u001b[49m)\n",
      "\u001b[0;31mTypeError\u001b[0m: 'str' object is not callable"
     ]
    }
   ],
   "source": [
    "favs = {}\n",
    "for file in data:\n",
    "    if file[\"favoriteFruit\"] not in favs:\n",
    "        favs[file[\"favoriteFruit\"]] = 1\n",
    "    else:\n",
    "        favs[file[\"favoriteFruit\"]] += 1\n",
    "print(favs)\n",
    "\n",
    "fruits = list(favs.keys())\n",
    "counts = list(favs.values())\n",
    "#m = counts.index(max(counts))\n",
    "\n",
    "print(type(counts[2]))\n",
    "print(max(counts))"
   ]
  },
  {
   "cell_type": "markdown",
   "id": "db4bc4f9-8069-49b1-b505-cb6fe6198ee4",
   "metadata": {},
   "source": [
    "#### Least most common favorite fruit"
   ]
  },
  {
   "cell_type": "code",
   "execution_count": 101,
   "id": "51736f88-3ec0-4eba-85fe-1abc6978ae37",
   "metadata": {},
   "outputs": [
    {
     "ename": "TypeError",
     "evalue": "'str' object is not callable",
     "output_type": "error",
     "traceback": [
      "\u001b[0;31m---------------------------------------------------------------------------\u001b[0m",
      "\u001b[0;31mTypeError\u001b[0m                                 Traceback (most recent call last)",
      "Input \u001b[0;32mIn [101]\u001b[0m, in \u001b[0;36m<cell line: 7>\u001b[0;34m()\u001b[0m\n\u001b[1;32m      5\u001b[0m     \u001b[38;5;28;01melse\u001b[39;00m:\n\u001b[1;32m      6\u001b[0m         favs[file[\u001b[38;5;124m\"\u001b[39m\u001b[38;5;124mfavoriteFruit\u001b[39m\u001b[38;5;124m\"\u001b[39m]] \u001b[38;5;241m+\u001b[39m\u001b[38;5;241m=\u001b[39m \u001b[38;5;241m1\u001b[39m\n\u001b[0;32m----> 7\u001b[0m \u001b[38;5;28mmin\u001b[39m \u001b[38;5;241m=\u001b[39m \u001b[38;5;28;43mmin\u001b[39;49m\u001b[43m(\u001b[49m\u001b[43mfavs\u001b[49m\u001b[43m,\u001b[49m\u001b[43m \u001b[49m\u001b[43mkey\u001b[49m\u001b[38;5;241;43m=\u001b[39;49m\u001b[43mfavs\u001b[49m\u001b[38;5;241;43m.\u001b[39;49m\u001b[43mget\u001b[49m\u001b[43m)\u001b[49m\n\u001b[1;32m      8\u001b[0m \u001b[38;5;28mprint\u001b[39m(\u001b[38;5;28mmin\u001b[39m)\n",
      "\u001b[0;31mTypeError\u001b[0m: 'str' object is not callable"
     ]
    }
   ],
   "source": [
    "favs = {}\n",
    "for file in data:\n",
    "    if file[\"favoriteFruit\"] not in favs:\n",
    "        favs[file[\"favoriteFruit\"]] = 1\n",
    "    else:\n",
    "        favs[file[\"favoriteFruit\"]] += 1\n",
    "min = min(favs, key=favs.get)\n",
    "print(min)"
   ]
  },
  {
   "cell_type": "markdown",
   "id": "06ace4fb-ab52-4f67-adef-298ed511004f",
   "metadata": {},
   "source": [
    "#### Total number of unread messages for all users"
   ]
  },
  {
   "cell_type": "code",
   "execution_count": 55,
   "id": "4dbfdae6-4ce7-44d7-afc3-e3bb2f0b1613",
   "metadata": {},
   "outputs": [
    {
     "name": "stdout",
     "output_type": "stream",
     "text": [
      "210\n"
     ]
    }
   ],
   "source": [
    "sum = 0\n",
    "nums = '1234567890'\n",
    "for file in data:\n",
    "    unread = ''\n",
    "    for spot in file[\"greeting\"]:\n",
    "        if spot in nums:\n",
    "            unread += spot\n",
    "    sum += int(unread)\n",
    "print(sum)"
   ]
  },
  {
   "cell_type": "code",
   "execution_count": null,
   "id": "fa57a53c-8a79-4c21-a723-4dcad1eefdfe",
   "metadata": {},
   "outputs": [],
   "source": []
  }
 ],
 "metadata": {
  "kernelspec": {
   "display_name": "Python 3 (ipykernel)",
   "language": "python",
   "name": "python3"
  },
  "language_info": {
   "codemirror_mode": {
    "name": "ipython",
    "version": 3
   },
   "file_extension": ".py",
   "mimetype": "text/x-python",
   "name": "python",
   "nbconvert_exporter": "python",
   "pygments_lexer": "ipython3",
   "version": "3.9.12"
  }
 },
 "nbformat": 4,
 "nbformat_minor": 5
}
