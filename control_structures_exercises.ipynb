{
 "cells": [
  {
   "cell_type": "code",
   "execution_count": 14,
   "id": "91200d61",
   "metadata": {},
   "outputs": [
    {
     "name": "stdin",
     "output_type": "stream",
     "text": [
      "Enter a day of the week: MONDAY\n"
     ]
    },
    {
     "name": "stdout",
     "output_type": "stream",
     "text": [
      "It is Monday.\n"
     ]
    }
   ],
   "source": [
    "# 1. Conditional Basics\n",
    "\n",
    "# 1.a prompt the user for a day of the week, print out whether the day is Monday or not\n",
    "day = input('Enter a day of the week:')\n",
    "if day.lower() == 'monday':\n",
    "    print('It is Monday.')\n",
    "else:\n",
    "    print('It is not Monday')"
   ]
  },
  {
   "cell_type": "code",
   "execution_count": 27,
   "id": "e55a9e2c",
   "metadata": {},
   "outputs": [
    {
     "name": "stdin",
     "output_type": "stream",
     "text": [
      "Enter a day of the week: monday\n"
     ]
    },
    {
     "name": "stdout",
     "output_type": "stream",
     "text": [
      "It is a weekday.\n"
     ]
    },
    {
     "name": "stdin",
     "output_type": "stream",
     "text": [
      "Would you like to try another? y or n y\n",
      "Enter a day of the week: sunday\n"
     ]
    },
    {
     "name": "stdout",
     "output_type": "stream",
     "text": [
      "It is a weekend.\n"
     ]
    },
    {
     "name": "stdin",
     "output_type": "stream",
     "text": [
      "Would you like to try another? y or n n\n"
     ]
    }
   ],
   "source": [
    "# 1.b prompt the user for a day of the week, print out whether the day is a weekday or a weekend\n",
    "while True:\n",
    "    new_day = input('Enter a day of the week:')\n",
    "    if new_day.lower() == 'saturday' or new_day.lower() == 'sunday':\n",
    "        print('It is a weekend.')\n",
    "        if input('Would you like to try another? y or n') == 'y':\n",
    "            continue\n",
    "    elif new_day.lower() == 'monday' or new_day.lower() == 'tuesday' or new_day.lower() == 'wednesday' or new_day.lower() == 'thursday' or new_day.lower() == 'friday':\n",
    "        print('It is a weekday.')\n",
    "        if input('Would you like to try another? y or n') == 'y':\n",
    "            continue\n",
    "    else:\n",
    "        print('That is not a day of the week.')\n",
    "        if input('Would you like to try another? y or n') == 'y':\n",
    "            continue\n",
    "    break"
   ]
  },
  {
   "cell_type": "code",
   "execution_count": 30,
   "id": "32414c5b",
   "metadata": {},
   "outputs": [
    {
     "name": "stdout",
     "output_type": "stream",
     "text": [
      "Total adjusted hours is: 50.5 Total pay will be: 757.5\n"
     ]
    }
   ],
   "source": [
    "# 1.c create variables and make up values for\n",
    "#   - the number of hours worked in one week\n",
    "hours_this_week = 47\n",
    "#   - the hourly rate\n",
    "hourly_rate = 15\n",
    "#   - how much the week's paycheck will be\n",
    "paycheck = hourly_rate*hours_this_week\n",
    "#   - write the python code that calculates the weekly paycheck. You get paid time and a half if you work\n",
    "#     more than 40 hours\n",
    "adj_hours = hours_this_week\n",
    "if hours_this_week > 40:\n",
    "    adj_hours = 40 + ((hours_this_week - 40)*1.5)\n",
    "print(f'Total adjusted hours is: {adj_hours} Total pay will be: {adj_hours*hourly_rate}')"
   ]
  },
  {
   "cell_type": "code",
   "execution_count": 31,
   "id": "07a72e6f",
   "metadata": {},
   "outputs": [
    {
     "name": "stdout",
     "output_type": "stream",
     "text": [
      "5\n",
      "6\n",
      "7\n",
      "8\n",
      "9\n",
      "10\n",
      "11\n",
      "12\n",
      "13\n",
      "14\n",
      "15\n"
     ]
    }
   ],
   "source": [
    "# 2. Loop Basics\n",
    "\n",
    "# 2.a While\n",
    "#   - Create an integer variable i with a value of 5.\n",
    "i = 5\n",
    "#   - Create a while loop that runs so long as i is less than or equal to 15\n",
    "while i <= 15:\n",
    "#   - Each loop iteration, output the current value of i, then increment i by one.\n",
    "    print(i)\n",
    "    i += 1"
   ]
  },
  {
   "cell_type": "code",
   "execution_count": 5,
   "id": "f0ed2d10",
   "metadata": {
    "scrolled": true
   },
   "outputs": [
    {
     "name": "stdout",
     "output_type": "stream",
     "text": [
      "0\n",
      "2\n",
      "4\n",
      "6\n",
      "8\n",
      "10\n",
      "12\n",
      "14\n",
      "16\n",
      "18\n",
      "20\n",
      "22\n",
      "24\n",
      "26\n",
      "28\n",
      "30\n",
      "32\n",
      "34\n",
      "36\n",
      "38\n",
      "40\n",
      "42\n",
      "44\n",
      "46\n",
      "48\n",
      "50\n",
      "52\n",
      "54\n",
      "56\n",
      "58\n",
      "60\n",
      "62\n",
      "64\n",
      "66\n",
      "68\n",
      "70\n",
      "72\n",
      "74\n",
      "76\n",
      "78\n",
      "80\n",
      "82\n",
      "84\n",
      "86\n",
      "88\n",
      "90\n",
      "92\n",
      "94\n",
      "96\n",
      "98\n",
      "100\n"
     ]
    }
   ],
   "source": [
    "#   - Create a while loop that will count by 2's starting with 0 and ending at 100. Follow each number \n",
    "#     with a new line.\n",
    "i = 0\n",
    "while i <= 100:\n",
    "    print(i)\n",
    "    i += 2"
   ]
  },
  {
   "cell_type": "code",
   "execution_count": 34,
   "id": "b4309d73",
   "metadata": {},
   "outputs": [
    {
     "name": "stdout",
     "output_type": "stream",
     "text": [
      "100\n",
      "95\n",
      "90\n",
      "85\n",
      "80\n",
      "75\n",
      "70\n",
      "65\n",
      "60\n",
      "55\n",
      "50\n",
      "45\n",
      "40\n",
      "35\n",
      "30\n",
      "25\n",
      "20\n",
      "15\n",
      "10\n",
      "5\n",
      "0\n",
      "-5\n",
      "-10\n"
     ]
    }
   ],
   "source": [
    "#   - Alter your loop to count backwards by 5's from 100 to -10.\n",
    "i = 100\n",
    "while i >= -10:\n",
    "    print(i)\n",
    "    i -= 5"
   ]
  },
  {
   "cell_type": "code",
   "execution_count": 35,
   "id": "cd5aff24",
   "metadata": {},
   "outputs": [
    {
     "name": "stdout",
     "output_type": "stream",
     "text": [
      "2\n",
      "4\n",
      "16\n",
      "256\n",
      "65536\n"
     ]
    }
   ],
   "source": [
    "#   - Create a while loop that starts at 2, and displays the number squared on each line while the number\n",
    "#     is less than 1,000,000. Output should equal:\n",
    "i = 2\n",
    "while i < 1000000:\n",
    "    print(i)\n",
    "    i *= i"
   ]
  },
  {
   "cell_type": "code",
   "execution_count": 36,
   "id": "7e2044f1",
   "metadata": {
    "scrolled": true
   },
   "outputs": [
    {
     "name": "stdout",
     "output_type": "stream",
     "text": [
      "100\n",
      "95\n",
      "90\n",
      "85\n",
      "80\n",
      "75\n",
      "70\n",
      "65\n",
      "60\n",
      "55\n",
      "50\n",
      "45\n",
      "40\n",
      "35\n",
      "30\n",
      "25\n",
      "20\n",
      "15\n",
      "10\n",
      "5\n"
     ]
    }
   ],
   "source": [
    "#   - Write a loop that uses print to create the output shown below.\n",
    "i = 100\n",
    "while i > 0:\n",
    "    print(i)\n",
    "    i -= 5"
   ]
  },
  {
   "cell_type": "code",
   "execution_count": 41,
   "id": "cc3d49a4",
   "metadata": {},
   "outputs": [
    {
     "name": "stdin",
     "output_type": "stream",
     "text": [
      "Enter a number:  7\n"
     ]
    },
    {
     "name": "stdout",
     "output_type": "stream",
     "text": [
      "7 x 1 = 7\n",
      "7 x 2 = 14\n",
      "7 x 3 = 21\n",
      "7 x 4 = 28\n",
      "7 x 5 = 35\n",
      "7 x 6 = 42\n",
      "7 x 7 = 49\n",
      "7 x 8 = 56\n",
      "7 x 9 = 63\n",
      "7 x 10 = 70\n"
     ]
    }
   ],
   "source": [
    "# 2.b For Loops\n",
    "\n",
    "#   - Write some code that prompts the user for a number, then shows a multiplication table up through \n",
    "#     10 for that number.\n",
    "num = int(input('Enter a number: '))\n",
    "def mult_table(num):\n",
    "    for i in range(1,11):\n",
    "        print(f'{num} x {i} = {num*i}')\n",
    "\n",
    "mult_table(num)"
   ]
  },
  {
   "cell_type": "code",
   "execution_count": 42,
   "id": "d681652c",
   "metadata": {},
   "outputs": [
    {
     "name": "stdout",
     "output_type": "stream",
     "text": [
      "1\n",
      "22\n",
      "333\n",
      "4444\n",
      "55555\n",
      "666666\n",
      "7777777\n",
      "88888888\n",
      "999999999\n"
     ]
    }
   ],
   "source": [
    "#   - Create a for loop that uses print to create the output shown below.\n",
    "for i in range(1,10):\n",
    "    print(str(i)*i)\n",
    "    # round = ''\n",
    "    # while x > 0:\n",
    "    #     round += str(i)\n",
    "    #     x -= 1\n",
    "    # print(round)"
   ]
  },
  {
   "cell_type": "code",
   "execution_count": 46,
   "id": "37d29e6f",
   "metadata": {
    "scrolled": true
   },
   "outputs": [
    {
     "name": "stdin",
     "output_type": "stream",
     "text": [
      "Enter an odd number between 1 and 50:  5\n"
     ]
    },
    {
     "name": "stdout",
     "output_type": "stream",
     "text": [
      "1\n",
      "3\n",
      "7\n",
      "9\n",
      "11\n",
      "13\n",
      "15\n",
      "17\n",
      "19\n",
      "21\n",
      "23\n",
      "25\n",
      "27\n",
      "29\n",
      "31\n",
      "33\n",
      "35\n",
      "37\n",
      "39\n",
      "41\n",
      "43\n",
      "45\n",
      "47\n",
      "49\n"
     ]
    }
   ],
   "source": [
    "# 2.c break and continue\n",
    "\n",
    "#   - Prompt the user for an odd number between 1 and 50. Use a loop and a break statement to continue \n",
    "#     prompting the user if they enter invalid input. (Hint: use the isdigit method on strings to \n",
    "#     determine this). Use a loop and the continue statement to output all the odd numbers between 1 and \n",
    "#     50, except for the number the user entered.\n",
    "\n",
    "odd_num = input('Enter an odd number between 1 and 50: ')\n",
    "while odd_num.isdigit() == False or int(odd_num)%2 != 1 or int(odd_num) > 50:\n",
    "        odd_num = input('That is not an odd number between 1 and 50. Enter an odd number between 1 and 50: ')\n",
    "\n",
    "odd_num = int(odd_num)\n",
    "\n",
    "for spot in range (1,51):\n",
    "    if spot == odd_num:\n",
    "        continue\n",
    "    elif spot%2 == 1:\n",
    "        print(spot)"
   ]
  },
  {
   "cell_type": "code",
   "execution_count": 50,
   "id": "8348c6c6",
   "metadata": {},
   "outputs": [
    {
     "name": "stdin",
     "output_type": "stream",
     "text": [
      "Enter a positive number:  6\n"
     ]
    },
    {
     "name": "stdout",
     "output_type": "stream",
     "text": [
      "0\n",
      "1\n",
      "2\n",
      "3\n",
      "4\n",
      "5\n",
      "6\n"
     ]
    }
   ],
   "source": [
    "# 2.d The input function can be used to prompt for input and use that input in your python code. Prompt the user to enter a positive number and write a loop that \n",
    "# counts from 0 to that number. (Hints: first make sure that the value the user entered is a valid number, also note that the input function returns a string, so \n",
    "# you'll need to convert this to a numeric type.)\n",
    "n = input(\"Enter a positive number: \")\n",
    "if n.isdigit():\n",
    "    n = int(n)\n",
    "    if n > 0:       \n",
    "        x = 0\n",
    "        while x <= int(n):\n",
    "            print(x)\n",
    "            x +=1"
   ]
  },
  {
   "cell_type": "code",
   "execution_count": 55,
   "id": "8f774f96",
   "metadata": {},
   "outputs": [
    {
     "name": "stdin",
     "output_type": "stream",
     "text": [
      "Enter positive integer:  3\n"
     ]
    },
    {
     "name": "stdout",
     "output_type": "stream",
     "text": [
      "3\n",
      "2\n",
      "1\n"
     ]
    }
   ],
   "source": [
    "# 2.e Write a program that prompts the user for a positive integer. Next write a loop that prints out the numbers from the number the user entered down to 1.\n",
    "n = input(\"Enter positive integer: \")\n",
    "if n.isdigit():\n",
    "    n = int(n)\n",
    "    if n > 0:       \n",
    "        x = n\n",
    "        while x > 0:\n",
    "            print(x)\n",
    "            x -= 1"
   ]
  },
  {
   "cell_type": "code",
   "execution_count": 35,
   "id": "cd67b0cf",
   "metadata": {
    "scrolled": true
   },
   "outputs": [
    {
     "name": "stdout",
     "output_type": "stream",
     "text": [
      "1\n",
      "2\n",
      "Fizz\n",
      "4\n",
      "Buzz\n",
      "Fizz\n",
      "7\n",
      "8\n",
      "Fizz\n",
      "Buzz\n",
      "11\n",
      "Fizz\n",
      "13\n",
      "14\n",
      "FizzBuzz\n",
      "16\n",
      "17\n",
      "Fizz\n",
      "19\n",
      "Buzz\n",
      "Fizz\n",
      "22\n",
      "23\n",
      "Fizz\n",
      "Buzz\n",
      "26\n",
      "Fizz\n",
      "28\n",
      "29\n",
      "FizzBuzz\n",
      "31\n",
      "32\n",
      "Fizz\n",
      "34\n",
      "Buzz\n",
      "Fizz\n",
      "37\n",
      "38\n",
      "Fizz\n",
      "Buzz\n",
      "41\n",
      "Fizz\n",
      "43\n",
      "44\n",
      "FizzBuzz\n",
      "46\n",
      "47\n",
      "Fizz\n",
      "49\n",
      "Buzz\n",
      "Fizz\n",
      "52\n",
      "53\n",
      "Fizz\n",
      "Buzz\n",
      "56\n",
      "Fizz\n",
      "58\n",
      "59\n",
      "FizzBuzz\n",
      "61\n",
      "62\n",
      "Fizz\n",
      "64\n",
      "Buzz\n",
      "Fizz\n",
      "67\n",
      "68\n",
      "Fizz\n",
      "Buzz\n",
      "71\n",
      "Fizz\n",
      "73\n",
      "74\n",
      "FizzBuzz\n",
      "76\n",
      "77\n",
      "Fizz\n",
      "79\n",
      "Buzz\n",
      "Fizz\n",
      "82\n",
      "83\n",
      "Fizz\n",
      "Buzz\n",
      "86\n",
      "Fizz\n",
      "88\n",
      "89\n",
      "FizzBuzz\n",
      "91\n",
      "92\n",
      "Fizz\n",
      "94\n",
      "Buzz\n",
      "Fizz\n",
      "97\n",
      "98\n",
      "Fizz\n",
      "Buzz\n"
     ]
    }
   ],
   "source": [
    "# 3. Fizzbuzz\n",
    "\n",
    "# 3.a One of the most common interview questions for entry-level programmers is the FizzBuzz test. \n",
    "#   Developed by Imran Ghory, the test is designed to test basic looping and conditional logic skills.\n",
    "\n",
    "#   - Write a program that prints the numbers from 1 to 100.\n",
    "#   - For multiples of three print \"Fizz\" instead of the number\n",
    "#   - For the multiples of five print \"Buzz\".\n",
    "#   - For numbers which are multiples of both three and five print \"FizzBuzz\".\n",
    "\n",
    "for i in range(1,101):\n",
    "    if i%5 == 0 and i%3 == 0:\n",
    "        print('FizzBuzz')\n",
    "    elif i%5 == 0:\n",
    "        print('Buzz')\n",
    "    elif i%3 == 0:\n",
    "        print('Fizz')\n",
    "    else:\n",
    "        print(i)"
   ]
  },
  {
   "cell_type": "code",
   "execution_count": 7,
   "id": "b4cd9618",
   "metadata": {},
   "outputs": [
    {
     "name": "stdin",
     "output_type": "stream",
     "text": [
      "Enter an integer:  4\n"
     ]
    },
    {
     "name": "stdout",
     "output_type": "stream",
     "text": [
      "   number  squared  cubed\n",
      "0       1        1      1\n",
      "1       2        4      8\n",
      "2       3        9     27\n",
      "3       4       16     64\n"
     ]
    },
    {
     "name": "stdin",
     "output_type": "stream",
     "text": [
      "Would you like to continue? y or n  y\n",
      "Enter an integer:  6\n"
     ]
    },
    {
     "name": "stdout",
     "output_type": "stream",
     "text": [
      "   number  squared  cubed\n",
      "0       1        1      1\n",
      "1       2        4      8\n",
      "2       3        9     27\n",
      "3       4       16     64\n",
      "4       5       25    125\n",
      "5       6       36    216\n"
     ]
    },
    {
     "name": "stdin",
     "output_type": "stream",
     "text": [
      "Would you like to continue? y or n  y\n",
      "Enter an integer:  4\n"
     ]
    },
    {
     "name": "stdout",
     "output_type": "stream",
     "text": [
      "   number  squared  cubed\n",
      "0       1        1      1\n",
      "1       2        4      8\n",
      "2       3        9     27\n",
      "3       4       16     64\n"
     ]
    },
    {
     "name": "stdin",
     "output_type": "stream",
     "text": [
      "Would you like to continue? y or n  n\n"
     ]
    },
    {
     "name": "stdout",
     "output_type": "stream",
     "text": [
      "Thanks for playing!\n"
     ]
    }
   ],
   "source": [
    "# 4. Display a table of powers.\n",
    "import pandas as pd\n",
    "\n",
    "#   - Prompt the user to enter an integer.\n",
    "x = int(input('Enter an integer: '))\n",
    "\n",
    "#   - Display a table of squares and cubes from 1 to the value entered.\n",
    "#   - Ask if the user wants to continue.\n",
    "#   - Assume that the user will enter valid data.\n",
    "#   - Only continue if the user agrees to.\n",
    "while True:\n",
    "    out_table = []\n",
    "    for i in range(1,x+1):\n",
    "        out_table.append([i, i*i, i*i*i])\n",
    "    out_table_df = pd.DataFrame(out_table, columns = ['number','squared','cubed'])\n",
    "    print(out_table_df)\n",
    "    if input(\"Would you like to continue? y or n \") == 'y':\n",
    "        x = int(input('Enter an integer: '))\n",
    "        continue\n",
    "    print('Thanks for playing!')\n",
    "    break"
   ]
  },
  {
   "cell_type": "code",
   "execution_count": 1,
   "id": "868a06bf-7d04-46f7-8be8-1992a3fa5004",
   "metadata": {},
   "outputs": [
    {
     "name": "stdin",
     "output_type": "stream",
     "text": [
      "Enter a numerical grade from 0 to 100:  87\n"
     ]
    },
    {
     "name": "stdout",
     "output_type": "stream",
     "text": [
      "Your grade is a B.\n"
     ]
    },
    {
     "name": "stdin",
     "output_type": "stream",
     "text": [
      "Continue? y or n n\n"
     ]
    },
    {
     "name": "stdout",
     "output_type": "stream",
     "text": [
      "Grading complete!\n"
     ]
    }
   ],
   "source": [
    "# 5. Convert given number grades into letter grades.\n",
    "#   - Prompt the user for a numerical grade from 0 to 100.\n",
    "grade = int(input('Enter a numerical grade from 0 to 100: '))\n",
    "#   - Display the corresponding letter grade.\n",
    "#   - Prompt the user to continue.\n",
    "#   - Assume that the user will enter valid integers for the grades.\n",
    "#   - The application should only continue if the user agrees to.\n",
    "#   - Grade Ranges:\n",
    "    # A : 100 - 88\n",
    "    # B : 87 - 80\n",
    "    # C : 79 - 67\n",
    "    # D : 66 - 60\n",
    "    # F : 59 - 0\n",
    "while grade > 0:\n",
    "    if grade >= 88:\n",
    "        print('Your grade is an A.')\n",
    "    elif grade >= 80:\n",
    "        print('Your grade is a B.')\n",
    "    elif grade >= 67:\n",
    "        print('Your grade is a C.')\n",
    "    elif grade >= 60:\n",
    "        print('Your grade is a D.')\n",
    "    else:\n",
    "        print('Your grade is a F.')\n",
    "    if input('Continue? y or n') == 'y':\n",
    "        grade = int(input('What is the next score? '))\n",
    "        continue\n",
    "    else:\n",
    "        print('Grading complete!')\n",
    "        break"
   ]
  },
  {
   "cell_type": "code",
   "execution_count": 2,
   "id": "65106468",
   "metadata": {},
   "outputs": [
    {
     "name": "stdin",
     "output_type": "stream",
     "text": [
      "Enter a genre:  g3\n"
     ]
    },
    {
     "name": "stdout",
     "output_type": "stream",
     "text": [
      "['t4', 't7']\n"
     ]
    }
   ],
   "source": [
    "# 6. Create a list of dictionaries where each dictionary represents a book that you have read. Each \n",
    "#   dictionary in the list should have the keys title, author, and genre. Loop through the list and print \n",
    "#   out information about each book.\n",
    "library = [{\"title\":\"t1\", \"author\":\"a1\", \"genre\":\"g1\"}, \n",
    "           {\"title\":\"t2\", \"author\":\"a2\", \"genre\":\"g1\"}, \n",
    "           {\"title\":\"t3\", \"author\":\"a1\", \"genre\":\"g2\"}, \n",
    "           {\"title\":\"t4\", \"author\":\"a3\", \"genre\":\"g3\"},\n",
    "           {\"title\":\"t5\", \"author\":\"a4\", \"genre\":\"g6\"}, \n",
    "           {\"title\":\"t6\", \"author\":\"a6\", \"genre\":\"g2\"}, \n",
    "           {\"title\":\"t7\", \"author\":\"a3\", \"genre\":\"g3\"}, \n",
    "           {\"title\":\"t8\", \"author\":\"a2\", \"genre\":\"g1\"},\n",
    "           {\"title\":\"t9\", \"author\":\"a5\", \"genre\":\"g4\"}, \n",
    "           {\"title\":\"t10\", \"author\":\"a6\", \"genre\":\"g8\"}, \n",
    "           {\"title\":\"t11\", \"author\":\"a1\", \"genre\":\"g5\"}, \n",
    "           {\"title\":\"t12\", \"author\":\"a3\", \"genre\":\"g4\"}]\n",
    "\n",
    "# 6.a Prompt the user to enter a genre, then loop through your books list and print out the titles of all \n",
    "#   the books in that genre.\n",
    "genre_entered = input('Enter a genre: ')\n",
    "titles_in_genre = []\n",
    "for spot in library:\n",
    "    if genre_entered == spot['genre']:\n",
    "        titles_in_genre.append(spot['title'])\n",
    "print(titles_in_genre)"
   ]
  },
  {
   "cell_type": "code",
   "execution_count": null,
   "id": "0d839fbf-0d29-41fa-a6c5-ffd557d1ea97",
   "metadata": {},
   "outputs": [],
   "source": []
  }
 ],
 "metadata": {
  "kernelspec": {
   "display_name": "Python 3 (ipykernel)",
   "language": "python",
   "name": "python3"
  },
  "language_info": {
   "codemirror_mode": {
    "name": "ipython",
    "version": 3
   },
   "file_extension": ".py",
   "mimetype": "text/x-python",
   "name": "python",
   "nbconvert_exporter": "python",
   "pygments_lexer": "ipython3",
   "version": "3.9.12"
  }
 },
 "nbformat": 4,
 "nbformat_minor": 5
}
