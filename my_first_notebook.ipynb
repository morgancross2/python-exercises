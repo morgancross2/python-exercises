{
 "cells": [
  {
   "cell_type": "code",
   "execution_count": null,
   "id": "d3dd2822",
   "metadata": {},
   "outputs": [],
   "source": [
    "# notes notes notes"
   ]
  },
  {
   "cell_type": "code",
   "execution_count": 4,
   "id": "5dc2588a",
   "metadata": {},
   "outputs": [
    {
     "data": {
      "text/plain": [
       "2"
      ]
     },
     "execution_count": 4,
     "metadata": {},
     "output_type": "execute_result"
    }
   ],
   "source": [
    "1 + 1"
   ]
  },
  {
   "cell_type": "code",
   "execution_count": 5,
   "id": "0bf5281a",
   "metadata": {},
   "outputs": [
    {
     "name": "stdout",
     "output_type": "stream",
     "text": [
      "Hello, World!\n"
     ]
    }
   ],
   "source": [
    "print('Hello, World!')"
   ]
  },
  {
   "cell_type": "code",
   "execution_count": null,
   "id": "adc7ac89",
   "metadata": {},
   "outputs": [],
   "source": [
    "# Shift Enter executes block"
   ]
  },
  {
   "cell_type": "code",
   "execution_count": 9,
   "id": "c824d190",
   "metadata": {},
   "outputs": [],
   "source": [
    "def addition (a,b):\n",
    "    return a + b"
   ]
  },
  {
   "cell_type": "code",
   "execution_count": 10,
   "id": "886e1ce3",
   "metadata": {},
   "outputs": [],
   "source": [
    "# X copies selected cell\n",
    "# V pastes selected cell\n",
    "# DD deletes selected cell\n",
    "# Z undos deletion of cell\n",
    "# A inserts cell above\n",
    "# B inserts cell below\n",
    "# II interrupts run"
   ]
  }
 ],
 "metadata": {
  "kernelspec": {
   "display_name": "Python 3 (ipykernel)",
   "language": "python",
   "name": "python3"
  },
  "language_info": {
   "codemirror_mode": {
    "name": "ipython",
    "version": 3
   },
   "file_extension": ".py",
   "mimetype": "text/x-python",
   "name": "python",
   "nbconvert_exporter": "python",
   "pygments_lexer": "ipython3",
   "version": "3.9.12"
  }
 },
 "nbformat": 4,
 "nbformat_minor": 5
}
