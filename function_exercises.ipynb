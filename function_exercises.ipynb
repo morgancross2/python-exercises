{
 "cells": [
  {
   "cell_type": "markdown",
   "id": "832e5800-fa3c-40ea-a60c-4b18c858aa98",
   "metadata": {},
   "source": [
    "#### 1. Define a function named is_two. It should accept one input and return True if the passed input is either the number or the string 2, False otherwise."
   ]
  },
  {
   "cell_type": "code",
   "execution_count": 2,
   "id": "0182538d-8677-42a1-a8a3-2941bf211aeb",
   "metadata": {},
   "outputs": [],
   "source": [
    "#create function named is_two that takes in one parameter\n",
    "def is_two(x):\n",
    "    # if that parameter in interger type equals 2, return function as True\n",
    "    if int(x) == 2:\n",
    "        return True\n",
    "    #return function as false\n",
    "    return False"
   ]
  },
  {
   "cell_type": "code",
   "execution_count": 10,
   "id": "aefde6fc-6acf-49bf-9a2f-f95bc569bbf4",
   "metadata": {},
   "outputs": [
    {
     "data": {
      "text/plain": [
       "True"
      ]
     },
     "execution_count": 10,
     "metadata": {},
     "output_type": "execute_result"
    }
   ],
   "source": [
    "is_two('2')"
   ]
  },
  {
   "cell_type": "markdown",
   "id": "45eceefe-6646-4f8d-bcd0-fc731e6a01dd",
   "metadata": {},
   "source": [
    "#### 2. Define a function named is_vowel. It should return True if the passed string is a vowel, False otherwise."
   ]
  },
  {
   "cell_type": "code",
   "execution_count": 3,
   "id": "4ff417ce-8fb9-4f12-b4e4-9b7d4e494c4c",
   "metadata": {},
   "outputs": [],
   "source": [
    "#create function named is_vowel that takes in one parameter\n",
    "def is_vowel(x):\n",
    "    #create list of vowels to compare off of later\n",
    "    vowels = ['a', 'e', 'i', 'o', 'u']\n",
    "    #check if x is in vowels, consider case\n",
    "    if x.lower() in vowels:\n",
    "        #return function as True if x was in the vowels list\n",
    "        return True\n",
    "    #return function as False\n",
    "    return False"
   ]
  },
  {
   "cell_type": "code",
   "execution_count": 6,
   "id": "5c2ef553-6a42-40a1-b9ab-68c0fb4c67d5",
   "metadata": {},
   "outputs": [
    {
     "data": {
      "text/plain": [
       "False"
      ]
     },
     "execution_count": 6,
     "metadata": {},
     "output_type": "execute_result"
    }
   ],
   "source": [
    "is_vowel('b')"
   ]
  },
  {
   "cell_type": "markdown",
   "id": "9d691b33-206a-48f3-83e4-e6157f51fe08",
   "metadata": {},
   "source": [
    "#### 3. Define a function named is_consonant. It should return True if the passed string is a consonant, False otherwise. Use your is_vowel function to accomplish this."
   ]
  },
  {
   "cell_type": "code",
   "execution_count": 11,
   "id": "3da78108-a10e-4ccd-9ff4-055ba3758f88",
   "metadata": {},
   "outputs": [],
   "source": [
    "#create function named is_consonant that takes in one parameter\n",
    "def is_consonant(x):\n",
    "    #check if x in NOT in vowel list\n",
    "    if is_vowel(x) == False:\n",
    "        #return function as True if x was NOT in the vowels list\n",
    "        return True\n",
    "    #return function as False otherwise\n",
    "    return False"
   ]
  },
  {
   "cell_type": "code",
   "execution_count": 13,
   "id": "f19eb191-e6a5-473c-a0b6-3e9436909b90",
   "metadata": {},
   "outputs": [
    {
     "data": {
      "text/plain": [
       "False"
      ]
     },
     "execution_count": 13,
     "metadata": {},
     "output_type": "execute_result"
    }
   ],
   "source": [
    "is_consonant('a')"
   ]
  },
  {
   "cell_type": "markdown",
   "id": "d0e89c9f-497a-4f90-9757-8b394e5e2af4",
   "metadata": {},
   "source": [
    "#### 4. Define a function that accepts a string that is a word. The function should capitalize the first letter of the word if the word starts with a consonant."
   ]
  },
  {
   "cell_type": "code",
   "execution_count": 15,
   "id": "6ace2e30-a84f-44e1-80fb-636a99b39510",
   "metadata": {},
   "outputs": [],
   "source": [
    "#create function named is_two that takes in one parameter\n",
    "def cap(word):\n",
    "    #check if first letter of the word is a consonant\n",
    "    if is_consonant(word[0]):\n",
    "        #create new string. First letter of string is capitalized then add the rest of the string as is.\n",
    "        new_word = word[0].upper() + word[1:]\n",
    "        #return the new word we just created\n",
    "        return new_word\n",
    "    #return original word if first letter is not a consonant\n",
    "    return word"
   ]
  },
  {
   "cell_type": "code",
   "execution_count": 18,
   "id": "d030af47-5e05-449c-b5bb-ea24ac323fe1",
   "metadata": {},
   "outputs": [
    {
     "data": {
      "text/plain": [
       "'Word'"
      ]
     },
     "execution_count": 18,
     "metadata": {},
     "output_type": "execute_result"
    }
   ],
   "source": [
    "cap('word')"
   ]
  },
  {
   "cell_type": "markdown",
   "id": "c4fa3aed-5dc2-4d03-8952-89ec59e93f42",
   "metadata": {},
   "source": [
    "#### 5. Define a function named calculate_tip. It should accept a tip percentage (a number between 0 and 1) and the bill total, and return the amount to tip."
   ]
  },
  {
   "cell_type": "code",
   "execution_count": 27,
   "id": "34f2c387-b746-4c48-8db4-996881330506",
   "metadata": {},
   "outputs": [],
   "source": [
    "#create function named calculate_tip that takes in two parameters\n",
    "def calculate_tip(percent, total):\n",
    "    #return the total times the percent, adjusted to be rounded to 2 decimals\n",
    "    return round(float(total) * float(percent), 2)"
   ]
  },
  {
   "cell_type": "code",
   "execution_count": 30,
   "id": "b8569123-c82c-4f39-bb06-73b006c9ea78",
   "metadata": {},
   "outputs": [
    {
     "data": {
      "text/plain": [
       "10.0"
      ]
     },
     "execution_count": 30,
     "metadata": {},
     "output_type": "execute_result"
    }
   ],
   "source": [
    "calculate_tip(.10, 100.00)"
   ]
  },
  {
   "cell_type": "markdown",
   "id": "15c07340-a49c-46fe-a80e-7752d2bcbca4",
   "metadata": {},
   "source": [
    "#### 6. Define a function named apply_discount. It should accept a original price, and a discount percentage, and return the price after the discount is applied."
   ]
  },
  {
   "cell_type": "code",
   "execution_count": 36,
   "id": "6a3e0ed5-5bd2-422b-834d-1b0b4a5d493f",
   "metadata": {},
   "outputs": [],
   "source": [
    "#assuming whole percent is being entered. ex: 10 for 10% off\n",
    "\n",
    "#create function named apply_discount that takes in two parameters\n",
    "def apply_discount (o_price, d_perc):\n",
    "    #ensure the price and discount amounts are floats\n",
    "    price = float(o_price)\n",
    "    dis = float(d_perc)*.01\n",
    "    #create new price that calculates the discount\n",
    "    new_price = price - (price*dis)\n",
    "    #return function with newly discounted price\n",
    "    return new_price"
   ]
  },
  {
   "cell_type": "code",
   "execution_count": 37,
   "id": "caf50c01-fdf9-40bb-a52e-491f992c7a0e",
   "metadata": {},
   "outputs": [
    {
     "data": {
      "text/plain": [
       "7.0"
      ]
     },
     "execution_count": 37,
     "metadata": {},
     "output_type": "execute_result"
    }
   ],
   "source": [
    "apply_discount(10,30)"
   ]
  },
  {
   "cell_type": "markdown",
   "id": "57a3e629-f673-4a46-a21e-a750c1aeb427",
   "metadata": {},
   "source": [
    "#### 7. Define a function named handle_commas. It should accept a string that is a number that contains commas in it as input, and return a number as output."
   ]
  },
  {
   "cell_type": "code",
   "execution_count": 38,
   "id": "7dd11889-126a-471b-8080-d302f51af8f7",
   "metadata": {},
   "outputs": [],
   "source": [
    "#assuming return number as string and not int\n",
    "\n",
    "#create function named handle_commas that takes in one parameter\n",
    "def handle_commas (num_str):\n",
    "    #create what will be the returned string\n",
    "    new_num = ''\n",
    "    #for each letter in the string\n",
    "    for spot in num_str:\n",
    "        #if that letter is NOT a comma\n",
    "        if spot != ',':\n",
    "            #add letter to our new string that will be returned\n",
    "            new_num += spot\n",
    "    #return new string\n",
    "    return new_num"
   ]
  },
  {
   "cell_type": "code",
   "execution_count": 41,
   "id": "6bf88624-7909-4272-8fbe-f67e0e24764e",
   "metadata": {},
   "outputs": [
    {
     "data": {
      "text/plain": [
       "'12345!'"
      ]
     },
     "execution_count": 41,
     "metadata": {},
     "output_type": "execute_result"
    }
   ],
   "source": [
    "handle_commas('1,2,3,45!')"
   ]
  },
  {
   "cell_type": "markdown",
   "id": "637c4d8e-c214-4d64-a74d-493cfedc39b4",
   "metadata": {},
   "source": [
    "#### 8. Define a function named get_letter_grade. It should accept a number and return the letter grade associated with that number (A-F)."
   ]
  },
  {
   "cell_type": "code",
   "execution_count": 45,
   "id": "a1c12e97-89f5-4e3e-8fd9-f78750fd6380",
   "metadata": {},
   "outputs": [],
   "source": [
    "#create function named get_letter_grade that takes in one parameter\n",
    "def get_letter_grade(grade):\n",
    "    #ensure it is an integer type\n",
    "    grade = int(grade)\n",
    "    #cycle through the grade scale options\n",
    "    if grade >= 88:\n",
    "        #return letter if in specific grade scale\n",
    "        return 'A'\n",
    "    elif grade >= 80:\n",
    "        return 'B'\n",
    "    elif grade >= 67:\n",
    "        return 'C'\n",
    "    elif grade >= 60:\n",
    "        return 'D'\n",
    "    else:\n",
    "        return 'F'"
   ]
  },
  {
   "cell_type": "code",
   "execution_count": 46,
   "id": "7fb0a417-ec40-4304-8635-bdf0a11c225b",
   "metadata": {},
   "outputs": [
    {
     "data": {
      "text/plain": [
       "'F'"
      ]
     },
     "execution_count": 46,
     "metadata": {},
     "output_type": "execute_result"
    }
   ],
   "source": [
    "get_letter_grade('54')"
   ]
  },
  {
   "cell_type": "markdown",
   "id": "3371b0a8-fd1e-4fa0-941e-3d027e8b5dd7",
   "metadata": {},
   "source": [
    "#### 9. Define a function named remove_vowels that accepts a string and returns a string with all the vowels removed."
   ]
  },
  {
   "cell_type": "code",
   "execution_count": 50,
   "id": "6c68f2a7-0e06-4182-9a71-3bc861cbff9c",
   "metadata": {},
   "outputs": [],
   "source": [
    "#create function named remove_vowels that takes in one parameter\n",
    "def remove_vowels(word):\n",
    "    #create a list of vowels to check from\n",
    "    vowels = ['a', 'e', 'i', 'o', 'u']\n",
    "    #create new string that will be returned at the end\n",
    "    new_word = ''\n",
    "    #for each character in the string\n",
    "    for spot in word:\n",
    "        #check if the character is NOT in the vowels list, consider case\n",
    "        if spot.lower() not in vowels:\n",
    "            #if NOT a vowel, add that character to our new string\n",
    "            new_word += spot\n",
    "    #return new string\n",
    "    return new_word"
   ]
  },
  {
   "cell_type": "code",
   "execution_count": 51,
   "id": "dc31d1f6-448d-4cc7-b16d-60a687e9620a",
   "metadata": {},
   "outputs": [
    {
     "data": {
      "text/plain": [
       "'bcDfg'"
      ]
     },
     "execution_count": 51,
     "metadata": {},
     "output_type": "execute_result"
    }
   ],
   "source": [
    "remove_vowels('abcDEfg')"
   ]
  },
  {
   "cell_type": "markdown",
   "id": "ad17eff7-f06a-4183-a330-cce1ca7a41d0",
   "metadata": {},
   "source": [
    "#### 10. Define a function named normalize_name. It should accept a string and return a valid python identifier, that is:\n",
    "##### - anything that is not a valid python identifier should be removed\n",
    "##### - leading and trailing whitespace should be removed\n",
    "##### - everything should be lowercase\n",
    "##### - spaces should be replaced with underscores\n",
    "##### - for example:\n",
    "#####          Name will become name\n",
    "#####          First Name will become first_name\n",
    "#####          % Completed will become completed"
   ]
  },
  {
   "cell_type": "code",
   "execution_count": 120,
   "id": "e9bfb955-bbf4-49fd-b33c-9c1a491558f5",
   "metadata": {},
   "outputs": [],
   "source": [
    "# consonants function from above does not work since it only checks for NOT vowels. \n",
    "\n",
    "#create function named normalize_word that takes in one parameter\n",
    "def normalize_name(word):\n",
    "    #create new string that will be returned at the end\n",
    "    new_word = ''\n",
    "    #create list of characters that are consonants\n",
    "    consonants = ['b', 'c', 'd', 'f', 'g', 'h', 'j', 'k', 'l', 'm', 'n', 'p', 'q', 'r', 's', 't', 'v', 'w', 'x', 'y', 'z']\n",
    "    # for each character in the string\n",
    "    for spot in word:\n",
    "        # if that character is a space\n",
    "        if spot == ' ':\n",
    "            #add an underscore to our new string\n",
    "            new_word += '_'\n",
    "            #do not read any further loops, go back to start, do not pass go, do not collect $200\n",
    "            continue\n",
    "        # if the character is a vowel or a consonant, add that character to the new string\n",
    "        if is_vowel(spot) == True or spot.lower() in consonants:\n",
    "            new_word += spot\n",
    "    #return new string    \n",
    "    return new_word.lower()"
   ]
  },
  {
   "cell_type": "code",
   "execution_count": 121,
   "id": "236bfe88-83fc-4c0d-9aa0-86f4a2407686",
   "metadata": {},
   "outputs": [
    {
     "data": {
      "text/plain": [
       "'first_name'"
      ]
     },
     "execution_count": 121,
     "metadata": {},
     "output_type": "execute_result"
    }
   ],
   "source": [
    "normalize_name('Fir!?st Name!')"
   ]
  },
  {
   "cell_type": "markdown",
   "id": "86840dea-54b8-448f-ba3c-d2756051c391",
   "metadata": {},
   "source": [
    "#### 11. Write a function named cumulative_sum that accepts a list of numbers and returns a list that is the cumulative sum of the numbers in the list.\n",
    "##### cumulative_sum([1, 1, 1]) returns [1, 2, 3]\n",
    "##### cumulative_sum([1, 2, 3, 4]) returns [1, 3, 6, 10]"
   ]
  },
  {
   "cell_type": "code",
   "execution_count": 88,
   "id": "29a6e5de-170a-4f09-8b55-ec130aefcb39",
   "metadata": {},
   "outputs": [],
   "source": [
    "#create function named cumulative_sum that takes in one parameter\n",
    "def cumulative_sum(list):\n",
    "    #create new list that will be returned later\n",
    "    newl = []\n",
    "    #set sum of list to 0\n",
    "    sum = 0\n",
    "    #for each spot in the list, starting at 0\n",
    "    for spot in list:\n",
    "        #add the value in that spot to the total sum of the list\n",
    "        sum += spot\n",
    "        #add that sum to the end of the new list\n",
    "        newl.append(sum)\n",
    "    #return the new list\n",
    "    return newl"
   ]
  },
  {
   "cell_type": "code",
   "execution_count": 89,
   "id": "71195155-d909-4293-ae4b-5cb58da91d22",
   "metadata": {},
   "outputs": [
    {
     "data": {
      "text/plain": [
       "[1, 3, 6, 10]"
      ]
     },
     "execution_count": 89,
     "metadata": {},
     "output_type": "execute_result"
    }
   ],
   "source": [
    "cumulative_sum([1,2,3,4])"
   ]
  },
  {
   "cell_type": "markdown",
   "id": "8a388052-524a-4f51-9c46-21587a9d964a",
   "metadata": {},
   "source": [
    "## BONUS"
   ]
  },
  {
   "cell_type": "markdown",
   "id": "278d37ee-7877-4c61-9b6c-d3be3b7f2857",
   "metadata": {},
   "source": [
    "#### Create a function named twelveto24. It should accept a string in the format 10:45am or 4:30pm and return a string that is the representation of the time in a 24-hour format. Bonus write a function that does the opposite."
   ]
  },
  {
   "cell_type": "code",
   "execution_count": 92,
   "id": "18ed8ad9-2bd4-4e1f-90bb-a8b88969c0fd",
   "metadata": {},
   "outputs": [],
   "source": [
    "#create function named twelveto24 that takes in one parameter\n",
    "def twelveto24(time):\n",
    "    #create new string that will be returned later\n",
    "    new_time = ''\n",
    "    #create boolean to differentiate am and pm\n",
    "    add_12 = False\n",
    "    #for each character in the given time string\n",
    "    for spot in time:\n",
    "        #if that character is a colon\n",
    "        if spot == ':':\n",
    "            #skip it\n",
    "            continue\n",
    "        #if not a colon, add to our new string\n",
    "        new_time += spot\n",
    "    #check if the second to last character is a p (as in pm)\n",
    "    if new_time[-2] == 'p':\n",
    "        #change boolean to true so we can go back later and add 12 hours\n",
    "        add_12 = True\n",
    "    #remove the am or pm from our new string and make it an integer\n",
    "    new_time = int(new_time[:-2])\n",
    "    #add 12 hours if our time started as a pm value\n",
    "    if add_12 == True:\n",
    "        new_time += 1200\n",
    "    #return our newly formatted time\n",
    "    return new_time"
   ]
  },
  {
   "cell_type": "code",
   "execution_count": 95,
   "id": "868412db-5b41-4cf4-be3d-43274ea1a3e3",
   "metadata": {},
   "outputs": [
    {
     "data": {
      "text/plain": [
       "235"
      ]
     },
     "execution_count": 95,
     "metadata": {},
     "output_type": "execute_result"
    }
   ],
   "source": [
    "twelveto24('2:35am')"
   ]
  },
  {
   "cell_type": "code",
   "execution_count": 109,
   "id": "6c00b4b3-62fd-4538-9083-e45d2a27f463",
   "metadata": {},
   "outputs": [],
   "source": [
    "def twentyfourtotwelve(time):\n",
    "    pm = False\n",
    "    if time >= 1300:\n",
    "        pm = True\n",
    "    if pm == True:\n",
    "        time -= 1200\n",
    "    time = str(time)\n",
    "    if len(time) == 4:\n",
    "        time = time[:2] + ':' + time[2:]\n",
    "    else:\n",
    "        time = time[:1] + ':' + time[1:]\n",
    "    if pm == True:\n",
    "        time += 'pm'\n",
    "    if pm == False:\n",
    "        time += 'am'\n",
    "    return time"
   ]
  },
  {
   "cell_type": "code",
   "execution_count": 114,
   "id": "1da31f03-348b-4841-9744-9932a61136b1",
   "metadata": {},
   "outputs": [
    {
     "data": {
      "text/plain": [
       "'7:53am'"
      ]
     },
     "execution_count": 114,
     "metadata": {},
     "output_type": "execute_result"
    }
   ],
   "source": [
    "twentyfourtotwelve(753)"
   ]
  },
  {
   "cell_type": "markdown",
   "id": "fb7b0d38-af3e-4b05-b8e8-230fdb8d82ba",
   "metadata": {},
   "source": [
    "#### Create a function named col_index. It should accept a spreadsheet column name, and return the index number of the column.\n",
    "##### col_index('A') returns 1\n",
    "##### col_index('B') returns 2\n",
    "##### col_index('AA') returns 27"
   ]
  },
  {
   "cell_type": "code",
   "execution_count": 192,
   "id": "3eec00c0-7b5d-443a-aa26-cd09f4cad12a",
   "metadata": {},
   "outputs": [],
   "source": [
    "# assuming standard excel naming of columns\n",
    "\n",
    "#create function named twelveto24 that takes in one parameter\n",
    "def col_index(name):\n",
    "    #define options in order\n",
    "    alpha = 'abcdefghijklmnopqrstuvwxyz'\n",
    "    #create variable to keep track of position of index\n",
    "    sum = 0\n",
    "    #transform input to match case\n",
    "    nname = name.lower()\n",
    "    #track length of column name that can be incremented down later\n",
    "    length = len(name)\n",
    "    \n",
    "    #while there are characters left\n",
    "    while length > 0:\n",
    "        #if there is more than one character left\n",
    "        if len(name) - length > 0:\n",
    "            #find the index in alpha and account for quantity that goes into each decimal space\n",
    "            #ex: first A in AAA will have 26 letters come before it. Second A in AAA will have 26^2 letters come before it\n",
    "            #THIS CREATES 1 OFF ERROR EACH ROUND\n",
    "            sum += (alpha.index(nname[length-1]) + 1) * 26 ** (len(name) - length)\n",
    "            #increment length down\n",
    "            length -= 1\n",
    "            continue\n",
    "        #This creates 1 off error\n",
    "        sum += (alpha.index(nname[length-1]) + 1)\n",
    "        length -= 1\n",
    "    #return final sum and correct 1 off error for every character that was input\n",
    "    return sum + length"
   ]
  },
  {
   "cell_type": "code",
   "execution_count": 191,
   "id": "18bff767-9817-4158-a4b2-1d9bd3bd4867",
   "metadata": {},
   "outputs": [
    {
     "name": "stdout",
     "output_type": "stream",
     "text": [
      "3\n",
      "29\n",
      "705\n"
     ]
    },
    {
     "data": {
      "text/plain": [
       "705"
      ]
     },
     "execution_count": 191,
     "metadata": {},
     "output_type": "execute_result"
    }
   ],
   "source": [
    "col_index('AAC')"
   ]
  },
  {
   "cell_type": "code",
   "execution_count": null,
   "id": "084e8eea-b5bd-4dd0-b25a-ef3a224e572f",
   "metadata": {},
   "outputs": [],
   "source": []
  }
 ],
 "metadata": {
  "kernelspec": {
   "display_name": "Python 3 (ipykernel)",
   "language": "python",
   "name": "python3"
  },
  "language_info": {
   "codemirror_mode": {
    "name": "ipython",
    "version": 3
   },
   "file_extension": ".py",
   "mimetype": "text/x-python",
   "name": "python",
   "nbconvert_exporter": "python",
   "pygments_lexer": "ipython3",
   "version": "3.9.12"
  }
 },
 "nbformat": 4,
 "nbformat_minor": 5
}
